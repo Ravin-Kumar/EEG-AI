{
 "cells": [
  {
   "cell_type": "code",
   "execution_count": 1,
   "metadata": {},
   "outputs": [],
   "source": [
    "import matplotlib.pyplot as plt\n",
    "import numpy as np\n",
    "import tensorflow as tf\n",
    "from scipy.interpolate import interp2d\n",
    "from scipy.signal import cwt, morlet2\n",
    "from sklearn import metrics\n",
    "from sklearn.model_selection import train_test_split\n",
    "from tensorflow.keras.layers import (BatchNormalization, Conv2D, Dense, Dropout, Flatten, MaxPool2D)\n",
    "\n",
    "from BandpassFilter import bandpass_filter"
   ]
  },
  {
   "cell_type": "markdown",
   "metadata": {},
   "source": [
    "-----------------------------------------------------------------------------------------\n",
    "                                                                             Defining the AI model\n",
    "-----------------------------------------------------------------------------------------"
   ]
  },
  {
   "cell_type": "code",
   "execution_count": 2,
   "metadata": {},
   "outputs": [],
   "source": [
    "class CNN(tf.keras.Model):\n",
    "\n",
    "    def __init__(self):\n",
    "        super().__init__()\n",
    "\n",
    "        self.network = tf.keras.Sequential([\n",
    "            Conv2D(96, (5,5), activation='relu', input_shape=(32,32,1)),\n",
    "            BatchNormalization(),\n",
    "            MaxPool2D(strides=1),\n",
    "            Dropout(0.2),\n",
    "            Conv2D(32, (5,5), activation='relu'),\n",
    "            MaxPool2D(strides=2),\n",
    "            Dense(500),\n",
    "            Flatten(),\n",
    "            Dense(2, activation='softmax')\n",
    "        ])\n",
    "    \n",
    "    def call(self, x):\n",
    "        return self.network(x)"
   ]
  },
  {
   "cell_type": "markdown",
   "metadata": {},
   "source": [
    "-----------------------------------------------------------------------------------------\n",
    "                                                                                Processing the Data\n",
    "-----------------------------------------------------------------------------------------"
   ]
  },
  {
   "cell_type": "code",
   "execution_count": 2,
   "metadata": {},
   "outputs": [],
   "source": [
    "def get_data(folder, fileno):\n",
    "\n",
    "    filename = f\"{folder}00{fileno}\" if fileno < 10 else f\"{folder}0{fileno}\" if 10<=fileno<=99 else f\"{folder}{fileno}\"\n",
    "    with open(f'./datasets/Bonn/{folder}/{filename}.txt', 'r') as signal_file:\n",
    "        data = np.array([int(x) for x in signal_file.read().split('\\n')[:-1]])\n",
    "    \n",
    "    return data"
   ]
  },
  {
   "cell_type": "code",
   "execution_count": 4,
   "metadata": {},
   "outputs": [],
   "source": [
    "fs = 173.6\n",
    "WIDTH_LENGTH, WIDTH_PATTERN = 100, 2\n",
    "\n",
    "freqs = np.linspace(1, fs/2, WIDTH_LENGTH)\n",
    "widths = (6*fs)/(2*freqs*np.pi)\n",
    "\n",
    "x = np.empty((500, WIDTH_LENGTH, 4097), dtype=np.complex128)\n",
    "y = np.zeros(500, dtype=np.uint8)\n",
    "\n",
    "idx = 0\n",
    "\n",
    "for folder in 'ZONFS':\n",
    "    for filename in range(1, 101):\n",
    "        data = get_data(folder, filename)\n",
    "        data = bandpass_filter(data, 173.6, 0.53, 40)\n",
    "        x[idx] = cwt(data, morlet2, widths)\n",
    "\n",
    "        if folder == 'S':\n",
    "            y[idx] = 1\n",
    "\n",
    "        idx += 1"
   ]
  },
  {
   "cell_type": "code",
   "execution_count": 5,
   "metadata": {},
   "outputs": [],
   "source": [
    "y_vals = np.arange(WIDTH_LENGTH)\n",
    "x_vals = np.arange(4097)\n",
    "\n",
    "x_resized = np.empty((500,32,32), dtype=np.complex128)\n",
    "\n",
    "for idx, image in enumerate(x):\n",
    "    f_real = interp2d(x_vals,y_vals,image.real,kind='cubic')\n",
    "    f_imag = interp2d(x_vals,y_vals,image.imag,kind='cubic')\n",
    "    y_new = np.linspace(0, WIDTH_LENGTH, 32)\n",
    "    x_new = np.linspace(0, 4097, 32)\n",
    "    x_resized[idx].real = f_real(x_new, y_new)\n",
    "    x_resized[idx].imag = f_imag(x_new, y_new)\n",
    "\n",
    "x_train, x_test, y_train, y_test = train_test_split(x_resized, y, test_size=0.2, stratify=y)"
   ]
  },
  {
   "cell_type": "markdown",
   "metadata": {},
   "source": [
    "-----------------------------------------------------------------------------------------\n",
    "                                                                               Training the Model\n",
    "-----------------------------------------------------------------------------------------"
   ]
  },
  {
   "cell_type": "code",
   "execution_count": 6,
   "metadata": {},
   "outputs": [],
   "source": [
    "CNN_model = CNN()\n",
    "CNN_model.compile(optimizer=tf.keras.optimizers.Adadelta(learning_rate=0.01), loss=tf.keras.losses.SparseCategoricalCrossentropy(), metrics=['accuracy'])"
   ]
  },
  {
   "cell_type": "code",
   "execution_count": 7,
   "metadata": {},
   "outputs": [],
   "source": [
    "history = CNN_model.fit(x_train, y_train, batch_size=4, epochs=50, validation_data=(x_test, y_test), shuffle=True, verbose=0)"
   ]
  },
  {
   "cell_type": "code",
   "execution_count": 8,
   "metadata": {},
   "outputs": [
    {
     "name": "stdout",
     "output_type": "stream",
     "text": [
      "INFO:tensorflow:Assets written to: ./models/All sets/optimised/CNNSM-wp2-wl100-A\\assets\n"
     ]
    }
   ],
   "source": [
    "model_name = f'CNNSM-wp{WIDTH_PATTERN}-wl{WIDTH_LENGTH}-A'\n",
    "CNN_model.save(f'./models/{model_name}')"
   ]
  },
  {
   "cell_type": "code",
   "execution_count": 9,
   "metadata": {},
   "outputs": [
    {
     "data": {
      "image/png": "[encoded data removed]",
      "text/plain": [
       "<Figure size 432x288 with 1 Axes>"
      ]
     },
     "metadata": {
      "needs_background": "light"
     },
     "output_type": "display_data"
    }
   ],
   "source": [
    "plt.plot(history.history['accuracy'], label='accuracy')\n",
    "plt.plot(history.history['val_accuracy'], label='val_accuracy')\n",
    "plt.xlabel('Epoch')\n",
    "plt.ylabel('Accuracy')\n",
    "plt.legend(loc='lower right')\n",
    "plt.savefig(f'./models/{model_name}.jpg')\n",
    "plt.show()"
   ]
  },
  {
   "cell_type": "markdown",
   "metadata": {},
   "source": [
    "-------------\n",
    "                                                                                Testing the model\n",
    "-------------                                                                                "
   ]
  },
  {
   "cell_type": "code",
   "execution_count": 14,
   "metadata": {},
   "outputs": [],
   "source": [
    "y_pred = CNN_model.predict(x_test)\n",
    "y_pred = np.argmax(y_pred, axis=1)\n",
    "accuracy = metrics.accuracy_score(y_test, y_pred)\n",
    "precision, recall, fscore, _ = metrics.precision_recall_fscore_support(y_test, y_pred, average='binary')\n",
    "tn, fp, fn, tp = metrics.confusion_matrix(y_test, y_pred).ravel()\n",
    "sensitivity = tp/(tp+fp)\n",
    "specificity = tn/(fp+tn)"
   ]
  },
  {
   "cell_type": "code",
   "execution_count": 15,
   "metadata": {},
   "outputs": [
    {
     "name": "stdout",
     "output_type": "stream",
     "text": [
      "accuracy=0.97\n",
      "sensitivity=0.9473684210526315\n",
      "specificity=0.9875\n",
      "precision=0.9473684210526315\n",
      "recall=0.9\n",
      "fscore=0.9230769230769231\n",
      "tp=18\n",
      "tn=79\n",
      "fp=1\n",
      "fn=2\n"
     ]
    }
   ],
   "source": [
    "print(f'{accuracy=}')\n",
    "print(f'{sensitivity=}')\n",
    "print(f'{specificity=}')\n",
    "print(f'{precision=}')\n",
    "print(f'{recall=}')\n",
    "print(f'{fscore=}')\n",
    "print(f'{tp=}\\n{tn=}\\n{fp=}\\n{fn=}')"
   ]
  },
  {
   "cell_type": "markdown",
   "metadata": {},
   "source": [
    "---------------------------\n",
    "                                                                                Loading a saved model\n",
    "---------------------------                                                                                    "
   ]
  },
  {
   "cell_type": "code",
   "execution_count": null,
   "metadata": {},
   "outputs": [],
   "source": [
    "model_path = './optimised model'\n",
    "loaded_model = tf.keras.models.load_model(model_path)\n",
    "\n",
    "y_pred = loaded_model.predict(x_test)  # run cells 4 and 5 to obtain the data\n",
    "y_pred = np.argmax(y_pred, axis=1)\n",
    "accuracy = metrics.accuracy_score(y_test, y_pred)\n",
    "precision, recall, fscore, _ = metrics.precision_recall_fscore_support(y_test, y_pred, average='binary')\n",
    "tn, fp, fn, tp = metrics.confusion_matrix(y_test, y_pred).ravel()\n",
    "sensitivity = tp/(tp+fp)\n",
    "specificity = tn/(fp+tn)\n",
    "\n",
    "print(f'{accuracy=}')\n",
    "print(f'{sensitivity=}')\n",
    "print(f'{specificity=}')\n",
    "print(f'{precision=}')\n",
    "print(f'{recall=}')\n",
    "print(f'{fscore=}')\n",
    "print(f'{tp=}\\n{tn=}\\n{fp=}\\n{fn=}')"
   ]
  }
 ],
 "metadata": {
  "interpreter": {
   "hash": "91de9dface688b0dd20a3085c2ed00be818e7f2a4078c14d79ed11bf27ab375d"
  },
  "kernelspec": {
   "display_name": "Python 3.10.1 64-bit",
   "language": "python",
   "name": "python3"
  },
  "language_info": {
   "codemirror_mode": {
    "name": "ipython",
    "version": 3
   },
   "file_extension": ".py",
   "mimetype": "text/x-python",
   "name": "python",
   "nbconvert_exporter": "python",
   "pygments_lexer": "ipython3",
   "version": "3.10.1"
  },
  "orig_nbformat": 4
 },
 "nbformat": 4,
 "nbformat_minor": 2
}
